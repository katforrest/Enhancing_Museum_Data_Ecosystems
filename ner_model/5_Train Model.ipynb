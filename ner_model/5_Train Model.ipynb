{
 "cells": [
  {
   "cell_type": "markdown",
   "id": "c1ee7e27",
   "metadata": {},
   "source": [
    "Create a blank spacy ner model, and train it on the data created in the last few steps. "
   ]
  },
  {
   "cell_type": "code",
   "execution_count": 1,
   "id": "6bb09f94",
   "metadata": {},
   "outputs": [],
   "source": [
    "import spacy"
   ]
  },
  {
   "cell_type": "code",
   "execution_count": 2,
   "id": "b31156d8",
   "metadata": {
    "scrolled": true
   },
   "outputs": [
    {
     "name": "stderr",
     "output_type": "stream",
     "text": [
      "C:\\Users\\kasey\\anaconda3\\lib\\site-packages\\spacy\\util.py:837: UserWarning: [W095] Model 'en_pipeline' (0.0.0) was trained with spaCy v3.4 and may not be 100% compatible with the current version (3.3.1). If you see errors or degraded performance, download a newer compatible model or retrain your custom model with the current spaCy version. For more details and available updates, run: python -m spacy validate\n",
      "  warnings.warn(warn_msg)\n"
     ]
    }
   ],
   "source": [
    "nlp = spacy.load(\"models/01\")"
   ]
  },
  {
   "cell_type": "code",
   "execution_count": 3,
   "id": "a5d2ead7",
   "metadata": {},
   "outputs": [
    {
     "data": {
      "text/plain": [
       "<spacy.pipeline.ner.EntityRecognizer at 0x175a443f3c0>"
      ]
     },
     "execution_count": 3,
     "metadata": {},
     "output_type": "execute_result"
    }
   ],
   "source": [
    "nlp.add_pipe(\"ner\")"
   ]
  },
  {
   "cell_type": "code",
   "execution_count": 4,
   "id": "74483f8c",
   "metadata": {},
   "outputs": [],
   "source": [
    "nlp.to_disk(\"models/01\")"
   ]
  },
  {
   "cell_type": "markdown",
   "id": "6571ffd4",
   "metadata": {},
   "source": [
    "After creating a blank model, I ran the following code in the command line to train the model using the training data I created in Steps 1 - 3, and the word vectors created in Step 4."
   ]
  },
  {
   "cell_type": "code",
   "execution_count": null,
   "id": "46d49e4a",
   "metadata": {},
   "outputs": [],
   "source": [
    "python -m spacy train models/01/config.cfg --output models/02 --paths.train data/train.spacy --paths.dev data/valid.spacy --paths.vectors models/01"
   ]
  }
 ],
 "metadata": {
  "kernelspec": {
   "display_name": "Python 3 (ipykernel)",
   "language": "python",
   "name": "python3"
  },
  "language_info": {
   "codemirror_mode": {
    "name": "ipython",
    "version": 3
   },
   "file_extension": ".py",
   "mimetype": "text/x-python",
   "name": "python",
   "nbconvert_exporter": "python",
   "pygments_lexer": "ipython3",
   "version": "3.9.12"
  }
 },
 "nbformat": 4,
 "nbformat_minor": 5
}
